{
 "cells": [
  {
   "cell_type": "code",
   "execution_count": 1,
   "metadata": {},
   "outputs": [],
   "source": [
    "from bs4 import BeautifulSoup as bs\n",
    "import requests\n",
    "import os\n",
    "import pandas as pd\n",
    "from splinter import Browser\n",
    "from webdriver_manager.chrome import ChromeDriverManager\n",
    "import pymongo"
   ]
  },
  {
   "cell_type": "code",
   "execution_count": 2,
   "metadata": {
    "scrolled": false
   },
   "outputs": [
    {
     "name": "stderr",
     "output_type": "stream",
     "text": [
      "[WDM] - ====== WebDriver manager ======\n"
     ]
    },
    {
     "name": "stdout",
     "output_type": "stream",
     "text": [
      "\n",
      "\n"
     ]
    },
    {
     "name": "stderr",
     "output_type": "stream",
     "text": [
      "[WDM] - Current google-chrome version is 89.0.4389\n",
      "[WDM] - Get LATEST driver version for 89.0.4389\n",
      "[WDM] - Driver [/Users/charlie/.wdm/drivers/chromedriver/mac64/89.0.4389.23/chromedriver] found in cache\n"
     ]
    }
   ],
   "source": [
    "#open chrome driver\n",
    "executable_path = {'executable_path': ChromeDriverManager().install()}\n",
    "browser = Browser('chrome', **executable_path, headless=False)\n"
   ]
  },
  {
   "cell_type": "markdown",
   "metadata": {},
   "source": [
    "<h1 style=\"color:blue\">Scraping first headline </h1>"
   ]
  },
  {
   "cell_type": "code",
   "execution_count": 3,
   "metadata": {
    "scrolled": false
   },
   "outputs": [
    {
     "data": {
      "text/plain": [
       "'Another First: Perseverance Captures the Sounds of Driving on Mars'"
      ]
     },
     "execution_count": 3,
     "metadata": {},
     "output_type": "execute_result"
    }
   ],
   "source": [
    "news_url = \"https://mars.nasa.gov/news/\"\n",
    "browser.visit(news_url)\n",
    "html = browser.html\n",
    "\n",
    "\n",
    "soup = bs(html, 'html.parser')\n",
    "\n",
    "start = soup.find('li', class_=\"slide\")\n",
    "title = start.find('div', class_='content_title').text.strip()\n",
    "\n",
    "title"
   ]
  },
  {
   "cell_type": "markdown",
   "metadata": {},
   "source": [
    "<h1 style=\"color:blue\">Scraping first teaser paragraph </h1>"
   ]
  },
  {
   "cell_type": "code",
   "execution_count": 4,
   "metadata": {},
   "outputs": [
    {
     "data": {
      "text/plain": [
       "'NASA’s newest rover recorded audio of itself crunching over the surface of the Red Planet, adding a whole new dimension to Mars exploration.'"
      ]
     },
     "execution_count": 4,
     "metadata": {},
     "output_type": "execute_result"
    }
   ],
   "source": [
    "news_start = soup.find(\"li\", class_= \"slide\")\n",
    "news_p = news_start.find('div', class_=\"article_teaser_body\").text\n",
    "news_p"
   ]
  },
  {
   "cell_type": "markdown",
   "metadata": {},
   "source": [
    "<h1 style=\"color:blue\"> JPL Mars Space Images - Featured Image </h1>"
   ]
  },
  {
   "cell_type": "code",
   "execution_count": 5,
   "metadata": {},
   "outputs": [
    {
     "data": {
      "text/plain": [
       "'https://data-class-jpl-space.s3.amazonaws.com/JPL_Space/image/featured/mars1.jpg'"
      ]
     },
     "execution_count": 5,
     "metadata": {},
     "output_type": "execute_result"
    }
   ],
   "source": [
    "jpl_url = \"https://data-class-jpl-space.s3.amazonaws.com/JPL_Space/index.html\"\n",
    "browser.visit(jpl_url)\n",
    "\n",
    "html = browser.html\n",
    "# Parse HTML with Beautiful Soup\n",
    "soup = bs(html, 'html.parser')\n",
    "# Retrieve all elements that contain book information\n",
    "images = soup.find_all('div', class_='floating_text_area')\n",
    "\n",
    "for image in images:\n",
    "    link = image.find(\"a\")\n",
    "    href = link['href']\n",
    "    \n",
    "    featured_image_url = (\"https://data-class-jpl-space.s3.amazonaws.com/JPL_Space/\" + href)\n",
    "    \n",
    "featured_image_url\n",
    "    "
   ]
  },
  {
   "cell_type": "markdown",
   "metadata": {},
   "source": [
    "<h1 style=\"color:blue\">Table Facts</h1>"
   ]
  },
  {
   "cell_type": "code",
   "execution_count": 17,
   "metadata": {
    "scrolled": false
   },
   "outputs": [
    {
     "ename": "NameError",
     "evalue": "name 'mars_data' is not defined",
     "output_type": "error",
     "traceback": [
      "\u001b[0;31m---------------------------------------------------------------------------\u001b[0m",
      "\u001b[0;31mNameError\u001b[0m                                 Traceback (most recent call last)",
      "\u001b[0;32m<ipython-input-17-aafb7877d528>\u001b[0m in \u001b[0;36m<module>\u001b[0;34m\u001b[0m\n\u001b[1;32m     13\u001b[0m \u001b[0mmars_html_table_clean\u001b[0m\u001b[0;34m\u001b[0m\u001b[0;34m\u001b[0m\u001b[0m\n\u001b[1;32m     14\u001b[0m \u001b[0;34m\u001b[0m\u001b[0m\n\u001b[0;32m---> 15\u001b[0;31m \u001b[0mmars_data\u001b[0m\u001b[0;34m[\u001b[0m\u001b[0;34m'mars_html_table_clean'\u001b[0m\u001b[0;34m]\u001b[0m \u001b[0;34m=\u001b[0m \u001b[0mmars_html_table_clean\u001b[0m\u001b[0;34m\u001b[0m\u001b[0;34m\u001b[0m\u001b[0m\n\u001b[0m\u001b[1;32m     16\u001b[0m \u001b[0;34m\u001b[0m\u001b[0m\n",
      "\u001b[0;31mNameError\u001b[0m: name 'mars_data' is not defined"
     ]
    }
   ],
   "source": [
    "facts_url = 'https://space-facts.com/mars/'\n",
    "tables = pd.read_html(facts_url)\n",
    "\n",
    "mars_table_df = tables[0]\n",
    "mars_tableII = mars_table_df.set_index(0, inplace=True)\n",
    "\n",
    "mars_tableIII = mars_table_df.rename(columns={0:' ',1:' '})\n",
    "\n",
    "mars_html_table = mars_tableIII.to_html()\n",
    "\n",
    "mars_html_table_clean = mars_html_table.replace(\"\\n\", \"\")\n",
    "\n",
    "mars_html_table_clean\n",
    "\n",
    "mars_data['mars_html_table_clean'] = mars_html_table_clean\n",
    "\n"
   ]
  },
  {
   "cell_type": "code",
   "execution_count": null,
   "metadata": {},
   "outputs": [],
   "source": [
    "# mars_table_II = mars_table_df.rename(columns={\"0\": \"Mars Planet Profile\", \"1\" : \"Facts\"}, inplace=True)\n",
    "# mars_table_II.head()\n",
    "\n",
    "# mars_html_table = mars_table_df.to_html()\n",
    "# mars_html_table\n",
    "\n",
    "# mars_html_table = mars_html_table.replace('\\n', '')\n",
    "\n",
    "# mars_html_table\n",
    "\n",
    "# facts_url = 'https://space-facts.com/mars/'\n",
    "# tables = pd.read_html(facts_url)\n",
    "# tables\n",
    "# mars_table_df = tables[0]\n",
    "# mars_table_df.head()\n",
    "\n",
    "\n",
    "\n"
   ]
  },
  {
   "cell_type": "markdown",
   "metadata": {},
   "source": [
    "<h1 style=\"color:blue\"> Mars Hemispheres </h1>"
   ]
  },
  {
   "cell_type": "code",
   "execution_count": 9,
   "metadata": {},
   "outputs": [],
   "source": [
    "hemi_url = \"https://astrogeology.usgs.gov/search/results?q=hemisphere+enhanced&k1=target&v1=Mars\""
   ]
  },
  {
   "cell_type": "markdown",
   "metadata": {},
   "source": [
    "<strong><h1 style=\"color:red\">DO NOT DELETE BELOW</h1></strong>"
   ]
  },
  {
   "cell_type": "code",
   "execution_count": 41,
   "metadata": {
    "scrolled": false
   },
   "outputs": [
    {
     "data": {
      "text/plain": [
       "[{'Hemisphere Image': 'Cerberus Hemisphere Enhanced',\n",
       "  'URL': 'https://astropedia.astrogeology.usgs.gov/download/Mars/Viking/cerberus_enhanced.tif/full.jpg'},\n",
       " {'Hemisphere Image': 'Schiaparelli Hemisphere Enhanced',\n",
       "  'URL': 'https://astropedia.astrogeology.usgs.gov/download/Mars/Viking/schiaparelli_enhanced.tif/full.jpg'},\n",
       " {'Hemisphere Image': 'Syrtis Major Hemisphere Enhanced',\n",
       "  'URL': 'https://astropedia.astrogeology.usgs.gov/download/Mars/Viking/syrtis_major_enhanced.tif/full.jpg'},\n",
       " {'Hemisphere Image': 'Valles Marineris Hemisphere Enhanced',\n",
       "  'URL': 'https://astropedia.astrogeology.usgs.gov/download/Mars/Viking/valles_marineris_enhanced.tif/full.jpg'}]"
      ]
     },
     "execution_count": 41,
     "metadata": {},
     "output_type": "execute_result"
    }
   ],
   "source": [
    "browser.visit(hemi_url)\n",
    "html = browser.html\n",
    "soup = bs(html, 'html.parser')\n",
    "\n",
    "hemi_main_url = \"https://astrogeology.usgs.gov\"\n",
    "full_url_dict = []\n",
    "\n",
    "hemi_names = soup.find_all('div', class_='item')\n",
    "\n",
    "for i in hemi_names:\n",
    "    title_hemi = i.find(\"h3\").text.strip()\n",
    "    link = i.find('a')['href']\n",
    "    enhanced_img_link = hemi_main_url + link\n",
    "    #move to page with full picture\n",
    "    browser.visit(enhanced_img_link)\n",
    "    html = browser.html\n",
    "    soup = bs(html, 'html.parser')\n",
    "    enhanced_img = soup.find(\"div\", class_=\"downloads\")\n",
    "    final_link = enhanced_img.find('a')['href']\n",
    "    \n",
    "    \n",
    "    full_image_url_link = (hemi_main_url + final_link)\n",
    "#     print(title)\n",
    "#     print(full_image_url_link)\n",
    "    \n",
    "    full_url_dict.append({\n",
    "        \"Hemisphere Image\" : title_hemi, \n",
    "        \"URL\" : final_link\n",
    "    })\n",
    "    \n",
    "full_url_dict\n"
   ]
  },
  {
   "cell_type": "code",
   "execution_count": 18,
   "metadata": {},
   "outputs": [
    {
     "ename": "NameError",
     "evalue": "name 'full_url_dict' is not defined",
     "output_type": "error",
     "traceback": [
      "\u001b[0;31m---------------------------------------------------------------------------\u001b[0m",
      "\u001b[0;31mNameError\u001b[0m                                 Traceback (most recent call last)",
      "\u001b[0;32m<ipython-input-18-c7e0fbdcfbe3>\u001b[0m in \u001b[0;36m<module>\u001b[0;34m\u001b[0m\n\u001b[1;32m      5\u001b[0m     \u001b[0;34m'featured_image_url'\u001b[0m\u001b[0;34m:\u001b[0m \u001b[0mfeatured_image_url\u001b[0m\u001b[0;34m,\u001b[0m\u001b[0;34m\u001b[0m\u001b[0;34m\u001b[0m\u001b[0m\n\u001b[1;32m      6\u001b[0m     \u001b[0;34m'mars_html_table'\u001b[0m\u001b[0;34m:\u001b[0m \u001b[0mmars_html_table\u001b[0m\u001b[0;34m,\u001b[0m\u001b[0;34m\u001b[0m\u001b[0;34m\u001b[0m\u001b[0m\n\u001b[0;32m----> 7\u001b[0;31m     \u001b[0;34m'full_url_dict'\u001b[0m\u001b[0;34m:\u001b[0m \u001b[0mfull_url_dict\u001b[0m\u001b[0;34m\u001b[0m\u001b[0;34m\u001b[0m\u001b[0m\n\u001b[0m\u001b[1;32m      8\u001b[0m })\n\u001b[1;32m      9\u001b[0m \u001b[0;34m\u001b[0m\u001b[0m\n",
      "\u001b[0;31mNameError\u001b[0m: name 'full_url_dict' is not defined"
     ]
    }
   ],
   "source": [
    "mars_data =({\n",
    "\n",
    "    'title': title,\n",
    "    'news_p': news_p,\n",
    "    'featured_image_url': featured_image_url,\n",
    "    'mars_html_table': mars_html_table,\n",
    "    'full_url_dict': full_url_dict\n",
    "})\n",
    "\n",
    "mars_data\n"
   ]
  },
  {
   "cell_type": "code",
   "execution_count": 49,
   "metadata": {},
   "outputs": [],
   "source": [
    "conn = 'mongodb://localhost:27017'\n",
    "client = pymongo.MongoClient(conn)"
   ]
  },
  {
   "cell_type": "code",
   "execution_count": 54,
   "metadata": {},
   "outputs": [],
   "source": [
    "db = client.mmars_db"
   ]
  },
  {
   "cell_type": "code",
   "execution_count": 55,
   "metadata": {},
   "outputs": [],
   "source": [
    "marrs = db.mmars_data"
   ]
  },
  {
   "cell_type": "code",
   "execution_count": 56,
   "metadata": {},
   "outputs": [
    {
     "name": "stdout",
     "output_type": "stream",
     "text": [
      "{'_id': ObjectId('604ed62eacfa175e7b04ac8a'), 'title': \"NASA's Perseverance Mars Rover Mission Honors Navajo Language\", 'news_p': 'Working with the Navajo Nation, the rover team has named features on Mars with words from the Navajo language.', 'featured_image_url': 'https://data-class-jpl-space.s3.amazonaws.com/JPL_Space/image/featured/mars1.jpg', 'full_url_dict': [{'Hemisphere Image': 'Cerberus Hemisphere Enhanced', 'URL': 'https://astropedia.astrogeology.usgs.gov/download/Mars/Viking/cerberus_enhanced.tif/full.jpg'}, {'Hemisphere Image': 'Schiaparelli Hemisphere Enhanced', 'URL': 'https://astropedia.astrogeology.usgs.gov/download/Mars/Viking/schiaparelli_enhanced.tif/full.jpg'}, {'Hemisphere Image': 'Syrtis Major Hemisphere Enhanced', 'URL': 'https://astropedia.astrogeology.usgs.gov/download/Mars/Viking/syrtis_major_enhanced.tif/full.jpg'}, {'Hemisphere Image': 'Valles Marineris Hemisphere Enhanced', 'URL': 'https://astropedia.astrogeology.usgs.gov/download/Mars/Viking/valles_marineris_enhanced.tif/full.jpg'}]}\n",
      "-------\n"
     ]
    }
   ],
   "source": [
    "results = marrs.find()\n",
    "for result in results:\n",
    "    print(result)\n",
    "    print(\"-------\")"
   ]
  },
  {
   "cell_type": "code",
   "execution_count": null,
   "metadata": {},
   "outputs": [],
   "source": []
  }
 ],
 "metadata": {
  "kernelspec": {
   "display_name": "Python 3",
   "language": "python",
   "name": "python3"
  },
  "language_info": {
   "codemirror_mode": {
    "name": "ipython",
    "version": 3
   },
   "file_extension": ".py",
   "mimetype": "text/x-python",
   "name": "python",
   "nbconvert_exporter": "python",
   "pygments_lexer": "ipython3",
   "version": "3.8.5"
  }
 },
 "nbformat": 4,
 "nbformat_minor": 4
}
